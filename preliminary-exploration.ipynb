{
 "cells": [
  {
   "cell_type": "markdown",
   "metadata": {},
   "source": [
    "### Fencing matches - preliminary analysis"
   ]
  },
  {
   "cell_type": "code",
   "execution_count": null,
   "metadata": {},
   "outputs": [],
   "source": [
    "%load_ext autoreload\n",
    "    \n",
    "%autoreload 2"
   ]
  },
  {
   "cell_type": "code",
   "execution_count": null,
   "metadata": {},
   "outputs": [],
   "source": [
    "import json\n",
    "\n",
    "import pandas as pd\n",
    "import matplotlib.pyplot as plt\n",
    "import numpy as np\n",
    "import ipywidgets as widgets\n",
    "\n",
    "\n",
    "%matplotlib inline"
   ]
  },
  {
   "cell_type": "code",
   "execution_count": null,
   "metadata": {},
   "outputs": [],
   "source": [
    "df = pd.read_csv('./data/Kaggle/ClipDescriptorKaggle.csv')"
   ]
  },
  {
   "cell_type": "code",
   "execution_count": null,
   "metadata": {},
   "outputs": [],
   "source": [
    "df.head()"
   ]
  },
  {
   "cell_type": "code",
   "execution_count": null,
   "metadata": {},
   "outputs": [],
   "source": [
    "df.nunique(axis=0)"
   ]
  },
  {
   "cell_type": "code",
   "execution_count": null,
   "metadata": {},
   "outputs": [],
   "source": [
    "df[df['URL'].str.contains('uho2ldovj7o')]"
   ]
  },
  {
   "cell_type": "code",
   "execution_count": null,
   "metadata": {},
   "outputs": [],
   "source": [
    "\n",
    "def load_key_point(path):\n",
    "    \n",
    "    with open(path, 'r') as fh:\n",
    "        df_kp = json.load(fh)\n",
    "    res = [np.array(el) for el in df_kp]\n",
    "    return [el for el in res if el.ndim == 3]\n",
    "\n",
    "df_kp = load_key_point('./data/Kaggle/FencersKeyPoints/0001_002_00_02_1.json')"
   ]
  },
  {
   "cell_type": "code",
   "execution_count": null,
   "metadata": {},
   "outputs": [],
   "source": [
    "df_kp[0].shape"
   ]
  },
  {
   "cell_type": "code",
   "execution_count": null,
   "metadata": {},
   "outputs": [],
   "source": [
    "from ipywidgets import interactive\n",
    "\n",
    "from fencing.openpose import POSE_LABELS\n",
    "\n",
    "\n",
    "def plot_key_points(X, ax, annotate=False):\n",
    "    mask = X[0].mean(axis=1) > 1\n",
    "    ax.plot(X[0][mask, 0], X[0][mask, 1], 'ro')\n",
    "    if annotate:\n",
    "        for idx in np.nonzero(mask)[0]:\n",
    "            ax.text(X[0][idx, 0], X[0][idx, 1], s=str(idx))\n",
    "    mask = X[1].mean(axis=1) > 1\n",
    "    ax.plot(X[1][mask, 0], X[1][mask, 1], 'bo')\n",
    "    if annotate:\n",
    "        for idx in np.nonzero(mask)[0]:\n",
    "            ax.text(X[1][idx, 0], X[1][idx, 1], s=str(idx))\n",
    "    \n",
    "\n",
    "    ax.set_ylim(280, 0)\n",
    "    \n",
    "def plot_key_point_sequence(idx):\n",
    "    fig, ax = plt.subplots(figsize=(8, 6))\n",
    "    plot_key_points(df_kp[int(idx)], ax, annotate=True)\n",
    "    plt.show()\n",
    "\n",
    "#\n",
    "\n",
    "interactive_plot = interactive(plot_key_point_sequence, idx=(0, len(df_kp)-1))\n",
    "output = interactive_plot.children[-1]\n",
    "output.layout.height = '450px'\n",
    "interactive_plot"
   ]
  },
  {
   "cell_type": "code",
   "execution_count": null,
   "metadata": {},
   "outputs": [],
   "source": [
    "len(df_kp)"
   ]
  },
  {
   "cell_type": "markdown",
   "metadata": {},
   "source": [
    "### Feature extraction"
   ]
  },
  {
   "cell_type": "code",
   "execution_count": null,
   "metadata": {},
   "outputs": [],
   "source": [
    "from fencing.feature_extraction import extract_features\n",
    "\n",
    "\n",
    "df_fe = extract_features(df_kp)"
   ]
  },
  {
   "cell_type": "code",
   "execution_count": null,
   "metadata": {},
   "outputs": [],
   "source": [
    "fig, ax = plt.subplots(3, 1, figsize=(10, 10))\n",
    "#x = np.linspace(0, 5, len(leg_dist))\n",
    "df_fe.plot(y=\"leg_distance_p0\", color='r', ax=ax[0])\n",
    "df_fe.plot(y=\"leg_distance_p1\", color='b', ax=ax[0])\n",
    "#df_fe.plot(y=\"right_leg_angle_p0\", color='r', ax=ax[1])\n",
    "#df_fe.plot(y=\"right_leg_angle_p1\", color='b', ax=ax[1])\n",
    "df_fe.plot(y=\"mhip_distance_x\", color='k', ax=ax[1])\n",
    "df_fe.plot(y=\"mhip_speed_x_diff\", ls='dashed', color='k', ax=ax[2])\n",
    "df_fe.plot(y=\"mhip_speed_x_p0\", color='r', ax=ax[2])\n",
    "df_fe.plot(y=\"mhip_speed_x_p1\", color='b', ax=ax[2])\n",
    "ax[0].legend()"
   ]
  },
  {
   "cell_type": "code",
   "execution_count": null,
   "metadata": {},
   "outputs": [],
   "source": []
  }
 ],
 "metadata": {
  "kernelspec": {
   "display_name": "Python 3",
   "language": "python",
   "name": "python3"
  },
  "language_info": {
   "codemirror_mode": {
    "name": "ipython",
    "version": 3
   },
   "file_extension": ".py",
   "mimetype": "text/x-python",
   "name": "python",
   "nbconvert_exporter": "python",
   "pygments_lexer": "ipython3",
   "version": "3.8.1"
  }
 },
 "nbformat": 4,
 "nbformat_minor": 4
}
