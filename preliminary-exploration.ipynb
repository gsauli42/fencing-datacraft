{
 "cells": [
  {
   "cell_type": "markdown",
   "metadata": {},
   "source": [
    "### Fencing matches - preliminary analysis"
   ]
  },
  {
   "cell_type": "code",
   "execution_count": 1,
   "metadata": {},
   "outputs": [],
   "source": [
    "import json\n",
    "\n",
    "import pandas as pd\n",
    "import matplotlib.pyplot as plt\n",
    "import numpy as np\n",
    "import ipywidgets as widgets\n",
    "\n",
    "\n",
    "%matplotlib inline"
   ]
  },
  {
   "cell_type": "code",
   "execution_count": 3,
   "metadata": {},
   "outputs": [],
   "source": [
    "df = pd.read_csv('./data/Kaggle/ClipDescriptorKaggle.csv')"
   ]
  },
  {
   "cell_type": "code",
   "execution_count": 4,
   "metadata": {},
   "outputs": [
    {
     "data": {
      "text/html": [
       "<div>\n",
       "<style scoped>\n",
       "    .dataframe tbody tr th:only-of-type {\n",
       "        vertical-align: middle;\n",
       "    }\n",
       "\n",
       "    .dataframe tbody tr th {\n",
       "        vertical-align: top;\n",
       "    }\n",
       "\n",
       "    .dataframe thead th {\n",
       "        text-align: right;\n",
       "    }\n",
       "</style>\n",
       "<table border=\"1\" class=\"dataframe\">\n",
       "  <thead>\n",
       "    <tr style=\"text-align: right;\">\n",
       "      <th></th>\n",
       "      <th>id</th>\n",
       "      <th>ClipName</th>\n",
       "      <th>URL</th>\n",
       "      <th>Start_frame</th>\n",
       "      <th>End_frame</th>\n",
       "      <th>Light1</th>\n",
       "      <th>Light2</th>\n",
       "      <th>Hit_label</th>\n",
       "    </tr>\n",
       "  </thead>\n",
       "  <tbody>\n",
       "    <tr>\n",
       "      <th>0</th>\n",
       "      <td>1</td>\n",
       "      <td>0001_002_00_01_1</td>\n",
       "      <td>https://www.youtube.com/watch?v=uho2ldovj7o</td>\n",
       "      <td>22750.0</td>\n",
       "      <td>22825.0</td>\n",
       "      <td>2</td>\n",
       "      <td>2</td>\n",
       "      <td>0-0-1</td>\n",
       "    </tr>\n",
       "    <tr>\n",
       "      <th>1</th>\n",
       "      <td>2</td>\n",
       "      <td>0001_002_00_02_1</td>\n",
       "      <td>https://www.youtube.com/watch?v=uho2ldovj7o</td>\n",
       "      <td>24684.0</td>\n",
       "      <td>24759.0</td>\n",
       "      <td>2</td>\n",
       "      <td>2</td>\n",
       "      <td>1-0-0</td>\n",
       "    </tr>\n",
       "    <tr>\n",
       "      <th>2</th>\n",
       "      <td>3</td>\n",
       "      <td>0001_002_01_01_1</td>\n",
       "      <td>https://www.youtube.com/watch?v=uho2ldovj7o</td>\n",
       "      <td>27330.0</td>\n",
       "      <td>27405.0</td>\n",
       "      <td>2</td>\n",
       "      <td>1</td>\n",
       "      <td>1-0-0</td>\n",
       "    </tr>\n",
       "    <tr>\n",
       "      <th>3</th>\n",
       "      <td>4</td>\n",
       "      <td>0001_002_01_02_1</td>\n",
       "      <td>https://www.youtube.com/watch?v=uho2ldovj7o</td>\n",
       "      <td>28051.0</td>\n",
       "      <td>28126.0</td>\n",
       "      <td>2</td>\n",
       "      <td>2</td>\n",
       "      <td>0-0-1</td>\n",
       "    </tr>\n",
       "    <tr>\n",
       "      <th>4</th>\n",
       "      <td>5</td>\n",
       "      <td>0001_002_02_02_1</td>\n",
       "      <td>https://www.youtube.com/watch?v=uho2ldovj7o</td>\n",
       "      <td>34040.0</td>\n",
       "      <td>34115.0</td>\n",
       "      <td>2</td>\n",
       "      <td>2</td>\n",
       "      <td>0-0-1</td>\n",
       "    </tr>\n",
       "  </tbody>\n",
       "</table>\n",
       "</div>"
      ],
      "text/plain": [
       "   id          ClipName                                          URL  \\\n",
       "0   1  0001_002_00_01_1  https://www.youtube.com/watch?v=uho2ldovj7o   \n",
       "1   2  0001_002_00_02_1  https://www.youtube.com/watch?v=uho2ldovj7o   \n",
       "2   3  0001_002_01_01_1  https://www.youtube.com/watch?v=uho2ldovj7o   \n",
       "3   4  0001_002_01_02_1  https://www.youtube.com/watch?v=uho2ldovj7o   \n",
       "4   5  0001_002_02_02_1  https://www.youtube.com/watch?v=uho2ldovj7o   \n",
       "\n",
       "   Start_frame  End_frame  Light1  Light2 Hit_label  \n",
       "0      22750.0    22825.0       2       2     0-0-1  \n",
       "1      24684.0    24759.0       2       2     1-0-0  \n",
       "2      27330.0    27405.0       2       1     1-0-0  \n",
       "3      28051.0    28126.0       2       2     0-0-1  \n",
       "4      34040.0    34115.0       2       2     0-0-1  "
      ]
     },
     "execution_count": 4,
     "metadata": {},
     "output_type": "execute_result"
    }
   ],
   "source": [
    "df.head()"
   ]
  },
  {
   "cell_type": "code",
   "execution_count": 6,
   "metadata": {},
   "outputs": [],
   "source": [
    "def load_key_point(path):\n",
    "    with open(path, 'r') as fh:\n",
    "        df_kp = json.load(fh)\n",
    "    res = [np.array(el) for el in df_kp]\n",
    "    return [el for el in res if el.ndim == 3]\n",
    "\n",
    "df_kp = load_key_point('./data/Kaggle/FencersKeyPoints/0006_028_00_04_1.json')"
   ]
  },
  {
   "cell_type": "code",
   "execution_count": 7,
   "metadata": {},
   "outputs": [
    {
     "data": {
      "text/plain": [
       "(2, 25, 3)"
      ]
     },
     "execution_count": 7,
     "metadata": {},
     "output_type": "execute_result"
    }
   ],
   "source": [
    "df_kp[0].shape"
   ]
  },
  {
   "cell_type": "code",
   "execution_count": 9,
   "metadata": {},
   "outputs": [
    {
     "data": {
      "image/png": "[encoded data removed]",
      "text/plain": [
       "<Figure size 432x288 with 1 Axes>"
      ]
     },
     "metadata": {
      "needs_background": "light"
     },
     "output_type": "display_data"
    }
   ],
   "source": [
    "from ipywidgets import interactive\n",
    "\n",
    "\n",
    "def plot_key_points(X, ax):\n",
    "    mask = X[0].mean(axis=1) > 1\n",
    "    ax.plot(X[0][mask, 0], X[0][mask, 1], 'ro')\n",
    "    mask = X[1].mean(axis=1) > 1\n",
    "    ax.plot(X[1][mask, 0], X[1][mask, 1], 'bo')\n",
    "    ax.set_ylim(230, 0)\n",
    "    \n",
    "def plot_key_point_sequence(idx):\n",
    "    fig, ax = plt.subplots()\n",
    "    plot_key_points(df_kp[int(idx)], ax)\n",
    "    plt.show()\n",
    "\n",
    "\n",
    "interactive_plot = interactive(plot_key_point_sequence, idx=(0, len(df_kp)-1))\n",
    "output = interactive_plot.children[-1]\n",
    "output.layout.height = '350px'\n",
    "interactive_plot"
   ]
  },
  {
   "cell_type": "code",
   "execution_count": null,
   "metadata": {},
   "outputs": [],
   "source": []
  }
 ],
 "metadata": {
  "kernelspec": {
   "display_name": "Python 3",
   "language": "python",
   "name": "python3"
  },
  "language_info": {
   "codemirror_mode": {
    "name": "ipython",
    "version": 3
   },
   "file_extension": ".py",
   "mimetype": "text/x-python",
   "name": "python",
   "nbconvert_exporter": "python",
   "pygments_lexer": "ipython3",
   "version": "3.7.4"
  }
 },
 "nbformat": 4,
 "nbformat_minor": 4
}
